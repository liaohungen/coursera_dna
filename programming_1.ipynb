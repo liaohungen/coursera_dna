{
 "cells": [
  {
   "cell_type": "code",
   "execution_count": 1,
   "metadata": {
    "scrolled": true
   },
   "outputs": [
    {
     "name": "stderr",
     "output_type": "stream",
     "text": [
      "--2019-08-14 21:48:20--  https://d28rh4a8wq0iu5.cloudfront.net/ads1/data/lambda_virus.fa\n",
      "Resolving d28rh4a8wq0iu5.cloudfront.net (d28rh4a8wq0iu5.cloudfront.net)... 13.35.11.190, 13.35.11.160, 13.35.11.66, ...\n",
      "Connecting to d28rh4a8wq0iu5.cloudfront.net (d28rh4a8wq0iu5.cloudfront.net)|13.35.11.190|:443... connected.\n",
      "HTTP request sent, awaiting response... 200 OK\n",
      "Length: 49270 (48K) [application/octet-stream]\n",
      "Saving to: 'lambda_virus.fa.3'\n",
      "\n",
      "     0K .......... .......... .......... .......... ........  100%  129K=0.4s\n",
      "\n",
      "2019-08-14 21:48:21 (129 KB/s) - 'lambda_virus.fa.3' saved [49270/49270]\n",
      "\n"
     ]
    }
   ],
   "source": [
    "!wget https://d28rh4a8wq0iu5.cloudfront.net/ads1/data/lambda_virus.fa\n"
   ]
  },
  {
   "cell_type": "code",
   "execution_count": 41,
   "metadata": {
    "scrolled": true
   },
   "outputs": [
    {
     "name": "stderr",
     "output_type": "stream",
     "text": [
      "--2019-08-14 22:33:17--  https://d28rh4a8wq0iu5.cloudfront.net/ads1/data/ERR037900_1.first1000.fastq\n",
      "Resolving d28rh4a8wq0iu5.cloudfront.net (d28rh4a8wq0iu5.cloudfront.net)... 13.35.5.186, 13.35.5.57, 13.35.5.51, ...\n",
      "Connecting to d28rh4a8wq0iu5.cloudfront.net (d28rh4a8wq0iu5.cloudfront.net)|13.35.5.186|:443... connected.\n",
      "HTTP request sent, awaiting response... 200 OK\n",
      "Length: 241626 (236K) [application/octet-stream]\n",
      "Saving to: 'ERR037900_1.first1000.fastq'\n",
      "\n",
      "     0K .......... .......... .......... .......... .......... 21%  128K 1s\n",
      "    50K .......... .......... .......... .......... .......... 42% 1.75M 1s\n",
      "   100K .......... .......... .......... .......... .......... 63%  273K 0s\n",
      "   150K .......... .......... .......... .......... .......... 84% 1.01M 0s\n",
      "   200K .......... .......... .......... .....                100% 3.55M=0.7s\n",
      "\n",
      "2019-08-14 22:33:18 (358 KB/s) - 'ERR037900_1.first1000.fastq' saved [241626/241626]\n",
      "\n"
     ]
    }
   ],
   "source": [
    "!wget https://d28rh4a8wq0iu5.cloudfront.net/ads1/data/ERR037900_1.first1000.fastq"
   ]
  },
  {
   "cell_type": "markdown",
   "metadata": {},
   "source": [
    "### functions"
   ]
  },
  {
   "cell_type": "code",
   "execution_count": 2,
   "metadata": {},
   "outputs": [],
   "source": [
    "def read_genome(file):\n",
    "    genome = \"\"\n",
    "    with open(file,'r') as fin: # read\n",
    "        for line in fin:\n",
    "            if \">\" not in line:\n",
    "                genome += line.rstrip()\n",
    "    return genome #只有一個string"
   ]
  },
  {
   "cell_type": "code",
   "execution_count": 4,
   "metadata": {},
   "outputs": [],
   "source": [
    "def Reverse(nucletide):\n",
    "    re = {\"A\":\"T\",\"C\":\"G\",\"G\":\"C\",\"T\":\"A\"}\n",
    "    seq = \"\"\n",
    "    for i in range(len(nucletide)):\n",
    "        if i != 0:\n",
    "            new = re[nucletide[-i]] #read from the last one\n",
    "            seq += new\n",
    "    seq += re[nucletide[0]]\n",
    "    return seq"
   ]
  },
  {
   "cell_type": "code",
   "execution_count": 3,
   "metadata": {},
   "outputs": [],
   "source": [
    "def naive(p,t):\n",
    "    occurances = []\n",
    "    for i in range(len(t)-len(p)+1):\n",
    "        match = True\n",
    "        for nucleotide in range(len(p)):\n",
    "            if not t[i+nucleotide] == p[nucleotide]:\n",
    "                match = False\n",
    "                break\n",
    "        if match:\n",
    "            occurances.append(i)\n",
    "    return occurances"
   ]
  },
  {
   "cell_type": "code",
   "execution_count": 36,
   "metadata": {},
   "outputs": [],
   "source": [
    "def naive_2mm(p,t):\n",
    "    occurance = []\n",
    "    for i in range(len(t)-len(p)+1):\n",
    "        count = 0\n",
    "        for n in range(len(p)):\n",
    "            if t[i+n] == p[n]:\n",
    "                count += 1\n",
    "        if count >= len(p)-2:\n",
    "            occurance.append(i)\n",
    "    return occurance"
   ]
  },
  {
   "cell_type": "code",
   "execution_count": 37,
   "metadata": {},
   "outputs": [
    {
     "name": "stdout",
     "output_type": "stream",
     "text": [
      "[10, 24, 38]\n"
     ]
    }
   ],
   "source": [
    "p = 'CTGT'\n",
    "ten_as = 'AAAAAAAAAA'\n",
    "t = ten_as + 'CTGT' + ten_as + 'CTTT' + ten_as + 'CGGG' + ten_as\n",
    "o = naive_2mm(p,t)\n",
    "print(o)"
   ]
  },
  {
   "cell_type": "code",
   "execution_count": 5,
   "metadata": {},
   "outputs": [],
   "source": [
    "mygenome = read_genome('lambda_virus.fa.2')\n",
    "## len(mygenome)= 48502"
   ]
  },
  {
   "cell_type": "markdown",
   "metadata": {},
   "source": [
    "### question 1"
   ]
  },
  {
   "cell_type": "code",
   "execution_count": 6,
   "metadata": {},
   "outputs": [
    {
     "name": "stdout",
     "output_type": "stream",
     "text": [
      "306\n"
     ]
    }
   ],
   "source": [
    "answer_1a = naive('AGGT',mygenome)\n",
    "answer_1b = naive(Reverse(\"AGGT\"),mygenome)\n",
    "print(len(answer_1a)+len(answer_1b))"
   ]
  },
  {
   "cell_type": "markdown",
   "metadata": {},
   "source": [
    "### question 2"
   ]
  },
  {
   "cell_type": "code",
   "execution_count": 18,
   "metadata": {},
   "outputs": [
    {
     "name": "stdout",
     "output_type": "stream",
     "text": [
      "195\n"
     ]
    }
   ],
   "source": [
    "answer_2 = naive(Reverse('TTAA'),mygenome)\n",
    "print(len(answer_2))"
   ]
  },
  {
   "cell_type": "markdown",
   "metadata": {},
   "source": [
    "### question 3"
   ]
  },
  {
   "cell_type": "code",
   "execution_count": 20,
   "metadata": {},
   "outputs": [
    {
     "name": "stdout",
     "output_type": "stream",
     "text": [
      "26028\n"
     ]
    }
   ],
   "source": [
    "answer_3a = naive(\"ACTAAGT\",mygenome)\n",
    "answer_3b = naive(Reverse(\"ACTAAGT\"),mygenome)\n",
    "if (answer_3a[0] < answer_3b[0]):\n",
    "    print(answer_3a[0])\n",
    "else:  \n",
    "    print(answer_3b[0])"
   ]
  },
  {
   "cell_type": "markdown",
   "metadata": {},
   "source": [
    "### question 4"
   ]
  },
  {
   "cell_type": "code",
   "execution_count": 21,
   "metadata": {},
   "outputs": [
    {
     "name": "stdout",
     "output_type": "stream",
     "text": [
      "450\n"
     ]
    }
   ],
   "source": [
    "answer_4a = naive(\"AGTCGA\",mygenome)\n",
    "answer_4b = naive(Reverse(\"AGTCGA\"),mygenome)\n",
    "if (answer_4a[0] < answer_4b[0]):\n",
    "    print(answer_4a[0])\n",
    "else:  \n",
    "    print(answer_4b[0])"
   ]
  },
  {
   "cell_type": "markdown",
   "metadata": {},
   "source": [
    "### question 5"
   ]
  },
  {
   "cell_type": "code",
   "execution_count": 38,
   "metadata": {},
   "outputs": [
    {
     "data": {
      "text/plain": [
       "191"
      ]
     },
     "execution_count": 38,
     "metadata": {},
     "output_type": "execute_result"
    }
   ],
   "source": [
    "answer_5 = naive_2mm('TTCAAGCC',mygenome)\n",
    "len(answer_5)"
   ]
  },
  {
   "cell_type": "markdown",
   "metadata": {},
   "source": [
    "### question 6"
   ]
  },
  {
   "cell_type": "code",
   "execution_count": 40,
   "metadata": {},
   "outputs": [
    {
     "data": {
      "text/plain": [
       "'AGGCGTTTCCG'"
      ]
     },
     "execution_count": 40,
     "metadata": {},
     "output_type": "execute_result"
    }
   ],
   "source": [
    "mygenome[49:60]"
   ]
  },
  {
   "cell_type": "code",
   "execution_count": 39,
   "metadata": {},
   "outputs": [
    {
     "data": {
      "text/plain": [
       "49"
      ]
     },
     "execution_count": 39,
     "metadata": {},
     "output_type": "execute_result"
    }
   ],
   "source": [
    "answer_6 = naive_2mm(\"AGGAGGTT\",mygenome)\n",
    "answer_6[0]"
   ]
  },
  {
   "cell_type": "markdown",
   "metadata": {},
   "source": [
    "### question 7"
   ]
  },
  {
   "cell_type": "code",
   "execution_count": 65,
   "metadata": {},
   "outputs": [],
   "source": [
    "def fastq(filename):\n",
    "    sequence = []\n",
    "    qualities = []\n",
    "    with open(filename) as fin:\n",
    "        while True:\n",
    "            fin.readline()\n",
    "            seq = fin.readline().rstrip()\n",
    "            fin.readline()\n",
    "            quality = fin.readline().rstrip()\n",
    "            if len(seq) == 0:\n",
    "                break\n",
    "            sequence.append(seq)\n",
    "            qualities.append(quality)\n",
    "    return sequence, qualities"
   ]
  },
  {
   "cell_type": "code",
   "execution_count": 69,
   "metadata": {},
   "outputs": [],
   "source": [
    "def phred33ToQ(qual):\n",
    "    return ord(qual) - 33"
   ]
  },
  {
   "cell_type": "code",
   "execution_count": 86,
   "metadata": {},
   "outputs": [],
   "source": [
    "def qualitytest(quals):\n",
    "    occurance_lowest = []\n",
    "    for seq in the_quality:\n",
    "        score = 100000000\n",
    "        for j in range(len(seq)):\n",
    "            q = phred33ToQ(seq[j])\n",
    "            if q < score:\n",
    "                score = q\n",
    "                location = j\n",
    "        occurance_lowest.append(location)\n",
    "    return occurance_lowest"
   ]
  },
  {
   "cell_type": "code",
   "execution_count": 87,
   "metadata": {},
   "outputs": [],
   "source": [
    "q = qualitytest(the_quality)"
   ]
  },
  {
   "cell_type": "code",
   "execution_count": 114,
   "metadata": {},
   "outputs": [
    {
     "data": {
      "text/plain": [
       "(66, 629)"
      ]
     },
     "execution_count": 114,
     "metadata": {},
     "output_type": "execute_result"
    }
   ],
   "source": [
    "import collections\n",
    "answer_7 = collections.Counter(q)\n",
    "sorted(answer_7.items(), key= lambda d :d[1],reverse=True)[0]"
   ]
  },
  {
   "cell_type": "code",
   "execution_count": null,
   "metadata": {},
   "outputs": [],
   "source": []
  },
  {
   "cell_type": "code",
   "execution_count": null,
   "metadata": {},
   "outputs": [],
   "source": []
  }
 ],
 "metadata": {
  "kernelspec": {
   "display_name": "Python 3",
   "language": "python",
   "name": "python3"
  },
  "language_info": {
   "codemirror_mode": {
    "name": "ipython",
    "version": 3
   },
   "file_extension": ".py",
   "mimetype": "text/x-python",
   "name": "python",
   "nbconvert_exporter": "python",
   "pygments_lexer": "ipython3",
   "version": "3.7.1"
  },
  "toc": {
   "base_numbering": 1,
   "nav_menu": {},
   "number_sections": true,
   "sideBar": true,
   "skip_h1_title": false,
   "title_cell": "Table of Contents",
   "title_sidebar": "Contents",
   "toc_cell": false,
   "toc_position": {
    "height": "calc(100% - 180px)",
    "left": "10px",
    "top": "150px",
    "width": "252.059px"
   },
   "toc_section_display": true,
   "toc_window_display": true
  }
 },
 "nbformat": 4,
 "nbformat_minor": 2
}
